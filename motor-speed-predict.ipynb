{
 "cells": [
  {
   "cell_type": "markdown",
   "id": "661fc7e4",
   "metadata": {
    "id": "661fc7e4"
   },
   "source": [
    "# Problem Statement:"
   ]
  },
  {
   "cell_type": "markdown",
   "id": "11cbd0a1",
   "metadata": {
    "id": "11cbd0a1"
   },
   "source": [
    "## Predicting speed of the Permanent Magnet Synchronous Motor(PMSM) given other sensor measurements during operation.."
   ]
  },
  {
   "cell_type": "markdown",
   "id": "2b9aab52",
   "metadata": {
    "id": "2b9aab52"
   },
   "source": [
    "# Import necessary libraries"
   ]
  },
  {
   "cell_type": "code",
   "execution_count": null,
   "id": "f9899fff",
   "metadata": {},
   "outputs": [],
   "source": [
    "#conda install conda=23.5.0"
   ]
  },
  {
   "cell_type": "code",
   "execution_count": null,
   "id": "20d033eb",
   "metadata": {},
   "outputs": [],
   "source": [
    "#pip install tensorflow"
   ]
  },
  {
   "cell_type": "code",
   "execution_count": null,
   "id": "0b3304f8",
   "metadata": {},
   "outputs": [],
   "source": [
    "#pip install mlxtend"
   ]
  },
  {
   "cell_type": "code",
   "execution_count": null,
   "id": "74c71951",
   "metadata": {
    "id": "74c71951"
   },
   "outputs": [],
   "source": [
    "import pandas as pd\n",
    "import numpy as np\n",
    "import matplotlib.pyplot as plt\n",
    "import seaborn as sns\n",
    "from sklearn.preprocessing import StandardScaler, PolynomialFeatures\n",
    "from sklearn.model_selection import train_test_split,GridSearchCV,KFold,cross_val_score\n",
    "from sklearn import linear_model\n",
    "import statsmodels.formula.api as smf\n",
    "from sklearn.linear_model import LinearRegression,Lasso,Ridge,ElasticNet,RANSACRegressor\n",
    "from sklearn.metrics import r2_score,mean_squared_error\n",
    "from sklearn.neighbors import KNeighborsRegressor\n",
    "from sklearn.tree import DecisionTreeRegressor\n",
    "from sklearn.ensemble import RandomForestRegressor\n",
    "from keras.models import Sequential\n",
    "from keras.layers import Dense\n",
    "\n",
    "plt.rcParams['figure.figsize']=(16,12)\n",
    "plt.rcParams['figure.dpi']=250\n",
    "import warnings\n",
    "warnings.filterwarnings('ignore')"
   ]
  },
  {
   "cell_type": "markdown",
   "id": "7f13a092",
   "metadata": {
    "id": "7f13a092"
   },
   "source": [
    "# Load Dataset"
   ]
  },
  {
   "cell_type": "code",
   "execution_count": null,
   "id": "1523aa70",
   "metadata": {
    "colab": {
     "base_uri": "https://localhost:8080/",
     "height": 363
    },
    "id": "1523aa70",
    "outputId": "d3fcaf50-7e75-4b54-ec9d-0e513290cf42"
   },
   "outputs": [],
   "source": [
    "em=pd.read_csv(\"temperature_data.csv\")\n",
    "em.head(10)"
   ]
  },
  {
   "cell_type": "code",
   "execution_count": null,
   "id": "4uxU8whOGdBi",
   "metadata": {
    "colab": {
     "base_uri": "https://localhost:8080/",
     "height": 363
    },
    "id": "4uxU8whOGdBi",
    "outputId": "721f2ddc-6276-4bc5-b4fc-3788009431e1"
   },
   "outputs": [],
   "source": [
    "em.tail(10)"
   ]
  },
  {
   "cell_type": "markdown",
   "id": "90b60987",
   "metadata": {
    "id": "90b60987"
   },
   "source": [
    "# EDA"
   ]
  },
  {
   "cell_type": "code",
   "execution_count": null,
   "id": "1b292d2a",
   "metadata": {
    "colab": {
     "base_uri": "https://localhost:8080/"
    },
    "id": "1b292d2a",
    "outputId": "9b5fe188-8f5c-4886-a508-a3a60b9b255c"
   },
   "outputs": [],
   "source": [
    "em.shape"
   ]
  },
  {
   "cell_type": "code",
   "execution_count": null,
   "id": "25607681",
   "metadata": {
    "colab": {
     "base_uri": "https://localhost:8080/"
    },
    "id": "25607681",
    "outputId": "73e0d924-2230-43f2-e415-10b43578dcdf"
   },
   "outputs": [],
   "source": [
    "em.info()"
   ]
  },
  {
   "cell_type": "code",
   "execution_count": null,
   "id": "af4c2ec9",
   "metadata": {
    "colab": {
     "base_uri": "https://localhost:8080/",
     "height": 457
    },
    "id": "af4c2ec9",
    "outputId": "59d07c0d-6f66-44e3-f70e-5d781d7437e5"
   },
   "outputs": [],
   "source": [
    "# computes various summary statistics, excluding NaN values\n",
    "\n",
    "em.describe().T"
   ]
  },
  {
   "cell_type": "code",
   "execution_count": null,
   "id": "b2a4b416",
   "metadata": {
    "colab": {
     "base_uri": "https://localhost:8080/"
    },
    "id": "b2a4b416",
    "outputId": "3ee2f5f8-3508-41e5-bcf4-e27c6c4e950c"
   },
   "outputs": [],
   "source": [
    "#Check null values\n",
    "\n",
    "em.isnull().sum()"
   ]
  },
  {
   "cell_type": "code",
   "execution_count": null,
   "id": "bf8dede7",
   "metadata": {
    "colab": {
     "base_uri": "https://localhost:8080/",
     "height": 49
    },
    "id": "bf8dede7",
    "outputId": "86bbbbb2-289c-4212-bab2-53fcf661dd46"
   },
   "outputs": [],
   "source": [
    "#Print the duplicated values.\n",
    "\n",
    "em[em.duplicated()]"
   ]
  },
  {
   "cell_type": "markdown",
   "id": "5d604d58",
   "metadata": {
    "id": "5d604d58"
   },
   "source": [
    "#### Observation: \n",
    "There are no duplicate values and null values present in this dataset."
   ]
  },
  {
   "cell_type": "markdown",
   "id": "7b0fe057",
   "metadata": {
    "id": "7b0fe057"
   },
   "source": [
    "# Correlation"
   ]
  },
  {
   "cell_type": "code",
   "execution_count": null,
   "id": "68c9cbc5",
   "metadata": {
    "colab": {
     "base_uri": "https://localhost:8080/",
     "height": 762
    },
    "id": "68c9cbc5",
    "outputId": "420231c9-02d5-462e-85dd-c616d06192a4"
   },
   "outputs": [],
   "source": [
    "# Pairlot for visualizing the correlation between features\n",
    "\n",
    "sns.pairplot(em)"
   ]
  },
  {
   "cell_type": "markdown",
   "id": "149c3f42",
   "metadata": {},
   "source": [
    "#### Since there is no  proper pattern visible in the plot correlation matrix is used to get the magnitude of the correlations between the features"
   ]
  },
  {
   "cell_type": "code",
   "execution_count": null,
   "id": "023163c3",
   "metadata": {
    "colab": {
     "base_uri": "https://localhost:8080/",
     "height": 521
    },
    "id": "023163c3",
    "outputId": "c18a3774-ba39-4155-c067-bdb6218e713b"
   },
   "outputs": [],
   "source": [
    "# for computing correlations\n",
    "em.corr()"
   ]
  },
  {
   "cell_type": "code",
   "execution_count": null,
   "id": "de6f320e",
   "metadata": {},
   "outputs": [],
   "source": [
    "corr = em.corr()\n",
    "#Plot figsize\n",
    "fig, ax = plt.subplots(figsize=(12, 8))\n",
    "#Generate Heat Map, allow annotations and place floats in map\n",
    "sns.heatmap(corr, cmap='magma', annot=True, fmt=\".2f\")\n",
    "#Apply xticks\n",
    "plt.xticks(range(len(corr.columns)), corr.columns);\n",
    "#Apply yticks\n",
    "plt.yticks(range(len(corr.columns)), corr.columns)\n",
    "#show plot\n",
    "plt.show()"
   ]
  },
  {
   "cell_type": "markdown",
   "id": "452ffbdb",
   "metadata": {},
   "source": [
    "### Observations:\n",
    "\n",
    "There is no significant relation between the dependent and the idpendent variables except u_q and i_d\n",
    "\n",
    "u_q is positively correlated with the motorspeed while i_d is affecting negatively"
   ]
  },
  {
   "cell_type": "markdown",
   "id": "ntjlxw79gv1z",
   "metadata": {
    "id": "ntjlxw79gv1z"
   },
   "source": [
    "## Univariate plots"
   ]
  },
  {
   "cell_type": "markdown",
   "id": "Gp8_v-04vlRZ",
   "metadata": {
    "id": "Gp8_v-04vlRZ"
   },
   "source": [
    "### To check the distribution of data"
   ]
  },
  {
   "cell_type": "code",
   "execution_count": null,
   "id": "3e8b3a76",
   "metadata": {
    "colab": {
     "base_uri": "https://localhost:8080/",
     "height": 903
    },
    "id": "3e8b3a76",
    "outputId": "4f0e9d85-65d2-425f-d712-ca921941a9b6"
   },
   "outputs": [],
   "source": [
    "em..iloc[:,:-1].hist(figsize = (35,25))\n",
    "plt.show()"
   ]
  },
  {
   "cell_type": "code",
   "execution_count": null,
   "id": "a3ce748a",
   "metadata": {},
   "outputs": [],
   "source": [
    "#sns.distplot(np.sqrt(em['motor_speed']))"
   ]
  },
  {
   "cell_type": "code",
   "execution_count": null,
   "id": "70258de2",
   "metadata": {
    "id": "70258de2",
    "outputId": "78efe5bf-746e-422c-ca45-99d4062e3b48"
   },
   "outputs": [],
   "source": [
    "sns.set(style=\"whitegrid\", font_scale=1.8)\n",
    "plt.subplots(figsize = (25,8))\n",
    "sns.countplot('profile_id',data=em).set_title('count of profile_id')\n",
    "plt.show()"
   ]
  },
  {
   "cell_type": "markdown",
   "id": "nWYqsgzlxy5T",
   "metadata": {
    "id": "nWYqsgzlxy5T"
   },
   "source": [
    "## Outlier Detection"
   ]
  },
  {
   "cell_type": "code",
   "execution_count": null,
   "id": "e6676610",
   "metadata": {
    "colab": {
     "base_uri": "https://localhost:8080/",
     "height": 950
    },
    "id": "e6676610",
    "outputId": "cf4f9e08-c1f0-47ce-c24c-1958fbcb8489"
   },
   "outputs": [],
   "source": [
    "#from seaborn.axisgrid import share_axis\n",
    "em.iloc[:,:-1].plot(kind='box',subplots=True,layout=(4,4))\n",
    "plt.show()"
   ]
  },
  {
   "cell_type": "markdown",
   "id": "Zv4Gs53ctD9g",
   "metadata": {
    "id": "Zv4Gs53ctD9g"
   },
   "source": [
    "### Observation:\n",
    "\n",
    "\"Ambient\" , \"torque\" and \"i_q\" features has the outliers on both the ends\n",
    "\n",
    "\"pm\" and \"u_d\" has outliers on the top end\n",
    "\n"
   ]
  },
  {
   "cell_type": "markdown",
   "id": "k9I59rgyYnWz",
   "metadata": {
    "id": "k9I59rgyYnWz"
   },
   "source": [
    "### Transforming the features pm and u_d"
   ]
  },
  {
   "cell_type": "code",
   "execution_count": null,
   "id": "P0_lIMuHYunt",
   "metadata": {
    "colab": {
     "base_uri": "https://localhost:8080/",
     "height": 708
    },
    "id": "P0_lIMuHYunt",
    "outputId": "00e6ae99-8d9c-4126-931f-bf2c58bab53e"
   },
   "outputs": [],
   "source": [
    "plt.figure(figsize=(8,4))\n",
    "plt.subplot(1,2,1)\n",
    "sns.boxplot(np.sqrt(em['u_d']))\n",
    "plt.title(\"u_d\")\n",
    "\n",
    "plt.subplot(1,2,2)\n",
    "sns.boxplot(np.sqrt(em['pm']))\n",
    "plt.title('pm')\n",
    "plt.show()"
   ]
  },
  {
   "cell_type": "code",
   "execution_count": null,
   "id": "92Sl11LDRYj6",
   "metadata": {
    "id": "92Sl11LDRYj6"
   },
   "outputs": [],
   "source": [
    "# Transforming the features u_d amd pm\n",
    "em['u_d']=np.sqrt(np.abs(em['u_d']))\n",
    "em['pm']=np.sqrt(np.abs(em['pm']))"
   ]
  },
  {
   "cell_type": "markdown",
   "id": "YR2I2dV3cfYc",
   "metadata": {
    "id": "YR2I2dV3cfYc"
   },
   "source": [
    "Hence the outliers in the tge featurs pm and u_d can be treated by applying square root them"
   ]
  },
  {
   "cell_type": "markdown",
   "id": "w-Qln-o3_Ri2",
   "metadata": {
    "id": "w-Qln-o3_Ri2"
   },
   "source": [
    "#### Outliers in the feature \"ambient\""
   ]
  },
  {
   "cell_type": "code",
   "execution_count": null,
   "id": "EhScMmGYFX7_",
   "metadata": {
    "colab": {
     "base_uri": "https://localhost:8080/"
    },
    "id": "EhScMmGYFX7_",
    "outputId": "c04e99d7-ff7f-45e6-fee5-8141b672cfab"
   },
   "outputs": [],
   "source": [
    "em['ambient'].describe()"
   ]
  },
  {
   "cell_type": "code",
   "execution_count": null,
   "id": "zuFHBEsVzil-",
   "metadata": {
    "colab": {
     "base_uri": "https://localhost:8080/"
    },
    "id": "zuFHBEsVzil-",
    "outputId": "9b48538e-d97c-4b76-d212-2d91183ff8c5"
   },
   "outputs": [],
   "source": [
    "#Quartile 1\n",
    "q1_am=em['ambient'].quantile(0.25)\n",
    "print('Quatile 1:',q1_am)\n",
    "\n",
    "#median\n",
    "med_am=em['ambient'].median()\n",
    "print(\"Median\",med_am)\n",
    "\n",
    "#Quartile 3\n",
    "q3_am=em['ambient'].quantile(0.75)\n",
    "print('Quatile 3:',q3_am)\n",
    "\n",
    "#Interquartile Range\n",
    "print(\"Inter quartile Range: \",q3_am-q1_am)\n",
    "\n",
    "#Upper limit\n",
    "upp_am=q3_am+1.5*(q3_am-q1_am)\n",
    "print('Upper Limit: ',upp_am)\n",
    "\n",
    "#Lower limit\n",
    "low_am=q1_am-1.5*(q3_am-q1_am)\n",
    "print('Lower Limit: ',low_am)"
   ]
  },
  {
   "cell_type": "code",
   "execution_count": null,
   "id": "sU7OO49_-9V5",
   "metadata": {
    "colab": {
     "base_uri": "https://localhost:8080/",
     "height": 424
    },
    "id": "sU7OO49_-9V5",
    "outputId": "f051ac9e-305d-461d-a917-eab252d83b82"
   },
   "outputs": [],
   "source": [
    "# outliers in ambient\n",
    "em[(em['ambient'] > upp_am) | (em['ambient'] < low_am)]"
   ]
  },
  {
   "cell_type": "markdown",
   "id": "6Je95ecDK_1F",
   "metadata": {
    "id": "6Je95ecDK_1F"
   },
   "source": [
    "#### Outliers the feature \"torque\""
   ]
  },
  {
   "cell_type": "code",
   "execution_count": null,
   "id": "9P3l5mUeK_1p",
   "metadata": {
    "colab": {
     "base_uri": "https://localhost:8080/"
    },
    "id": "9P3l5mUeK_1p",
    "outputId": "91e4500e-4f86-4895-e55d-d3bc88f5b923"
   },
   "outputs": [],
   "source": [
    "em['torque'].describe()"
   ]
  },
  {
   "cell_type": "code",
   "execution_count": null,
   "id": "TF30zXNFK_1q",
   "metadata": {
    "colab": {
     "base_uri": "https://localhost:8080/"
    },
    "id": "TF30zXNFK_1q",
    "outputId": "b4e730aa-c1b0-49f4-e520-f7f5c16d8344"
   },
   "outputs": [],
   "source": [
    "#Quartile 1\n",
    "q1_tq=em['torque'].quantile(0.25)\n",
    "print('Quatile 1:',q1_tq)\n",
    "\n",
    "#median\n",
    "med_tq=em['torque'].median()\n",
    "print(\"Median\",med_tq)\n",
    "\n",
    "#Quartile 3\n",
    "q3_tq=em['torque'].quantile(0.75)\n",
    "print('Quatile 3:',q3_tq)\n",
    "\n",
    "#Interquartile Range\n",
    "print(\"Inter quartile Range: \",q3_tq-q1_tq)\n",
    "\n",
    "#Upper limit\n",
    "upp_tq=q3_tq+1.5*(q3_tq-q1_tq)\n",
    "print('Upper Limit: ',upp_tq)\n",
    "\n",
    "#Lower limit\n",
    "low_tq=q1_tq-1.5*(q3_tq-q1_tq)\n",
    "print('Lower Limit: ',low_tq)"
   ]
  },
  {
   "cell_type": "code",
   "execution_count": null,
   "id": "0vGNLGA1K_1s",
   "metadata": {
    "colab": {
     "base_uri": "https://localhost:8080/",
     "height": 424
    },
    "id": "0vGNLGA1K_1s",
    "outputId": "a1edf011-b696-42bb-e7cb-a675c1c70da2"
   },
   "outputs": [],
   "source": [
    "# outliers in torque\n",
    "em[(em['torque'] > upp_tq) | (em['torque'] < low_tq)]"
   ]
  },
  {
   "cell_type": "markdown",
   "id": "dC1z_mVDNdxw",
   "metadata": {
    "id": "dC1z_mVDNdxw"
   },
   "source": [
    "#### Outliers in the feature \"i_q\""
   ]
  },
  {
   "cell_type": "code",
   "execution_count": null,
   "id": "UFrr8tUvNdxz",
   "metadata": {
    "colab": {
     "base_uri": "https://localhost:8080/"
    },
    "id": "UFrr8tUvNdxz",
    "outputId": "e3521baa-411e-4ebb-de2f-fc01b58b2150"
   },
   "outputs": [],
   "source": [
    "em['i_q'].describe()"
   ]
  },
  {
   "cell_type": "code",
   "execution_count": null,
   "id": "Cix0OpbrNdx2",
   "metadata": {
    "colab": {
     "base_uri": "https://localhost:8080/"
    },
    "id": "Cix0OpbrNdx2",
    "outputId": "23bb5f34-9b1b-4015-f73d-3cb2b3bd5ffc"
   },
   "outputs": [],
   "source": [
    "#Quartile 1\n",
    "q1_iq=em['i_q'].quantile(0.25)\n",
    "print('Quatile 1:',q1_iq)\n",
    "\n",
    "#median\n",
    "med_iq=em['i_q'].median()\n",
    "print(\"Median\",med_iq)\n",
    "\n",
    "#Quartile 3\n",
    "q3_iq=em['i_q'].quantile(0.75)\n",
    "print('Quatile 3:',q3_iq)\n",
    "\n",
    "#Interquartile Range\n",
    "print(\"Inter quartile Range: \",q3_iq-q1_iq)\n",
    "\n",
    "#Upper limit\n",
    "upp_iq=q3_iq+1.5*(q3_iq-q1_iq)\n",
    "print('Upper Limit: ',upp_iq)\n",
    "\n",
    "#Lower limit\n",
    "low_iq=q1_iq-1.5*(q3_iq-q1_iq)\n",
    "print('Lower Limit: ',low_iq)"
   ]
  },
  {
   "cell_type": "code",
   "execution_count": null,
   "id": "2RGX-QWFNdx3",
   "metadata": {
    "colab": {
     "base_uri": "https://localhost:8080/",
     "height": 424
    },
    "id": "2RGX-QWFNdx3",
    "outputId": "3ad41f05-91a7-4695-e0ac-d511e939c6af"
   },
   "outputs": [],
   "source": [
    "# outliers in i_q\n",
    "em[(em['i_q'] > upp_iq) | (em['i_q'] < low_iq)]"
   ]
  },
  {
   "cell_type": "markdown",
   "id": "Dh6RoSRsQgZl",
   "metadata": {
    "id": "Dh6RoSRsQgZl"
   },
   "source": [
    "Rows with all the 3 columns as outliers"
   ]
  },
  {
   "cell_type": "code",
   "execution_count": null,
   "id": "7ueuLSQ2Q3WU",
   "metadata": {
    "colab": {
     "base_uri": "https://localhost:8080/",
     "height": 49
    },
    "id": "7ueuLSQ2Q3WU",
    "outputId": "ae52add3-7e9b-4e7e-bdce-45813b1b8fcc"
   },
   "outputs": [],
   "source": [
    "em[((em['ambient'] > upp_am) | (em['ambient'] < low_am)) & ((em['torque'] > upp_tq) | (em['torque'] < low_tq)) & ((em['i_q'] > upp_iq) | (em['i_q'] < low_iq))]"
   ]
  },
  {
   "cell_type": "code",
   "execution_count": null,
   "id": "TCDRqwNZOTdu",
   "metadata": {
    "colab": {
     "base_uri": "https://localhost:8080/"
    },
    "id": "TCDRqwNZOTdu",
    "outputId": "8e612abd-483c-403c-a810-bf88428af198"
   },
   "outputs": [],
   "source": [
    "# value counts of profile_id that contains outliers in all the 3 columns\n",
    "em[((em['ambient'] > upp_am) | (em['ambient'] < low_am)) & ((em['torque'] > upp_tq) | (em['torque'] < low_tq)) & ((em['i_q'] > upp_iq) | (em['i_q'] < low_iq))]['profile_id'].value_counts()"
   ]
  },
  {
   "cell_type": "markdown",
   "id": "SWXRxZOSRsx5",
   "metadata": {
    "id": "SWXRxZOSRsx5"
   },
   "source": [
    "Rows with atleast 1 out of 3 columns containg outlier"
   ]
  },
  {
   "cell_type": "code",
   "execution_count": null,
   "id": "L7QyAi7wRsZc",
   "metadata": {
    "colab": {
     "base_uri": "https://localhost:8080/",
     "height": 49
    },
    "id": "L7QyAi7wRsZc",
    "outputId": "7ae40e1c-8f75-46d7-ff8c-b1bc7c9bf664"
   },
   "outputs": [],
   "source": [
    "#Rows with outliers\n",
    "em[((em['ambient'] > upp_am) | (em['ambient'] < low_am)) | ((em['torque'] > upp_tq) | (em['torque'] < low_tq)) | ((em['i_q'] > upp_iq) | (em['i_q'] < low_iq))]\n"
   ]
  },
  {
   "cell_type": "markdown",
   "id": "d3d0224e",
   "metadata": {},
   "source": [
    "There are 1,80,510 outliers totally present in the dataset after transforming u_d and pm columns.So we are not deleting those rowes but replacing the outliers greater than upper limit with the upper-limit and with lower limit for those data that are lesser than lower limit"
   ]
  },
  {
   "cell_type": "markdown",
   "id": "GRb3rFx7SLqY",
   "metadata": {
    "id": "GRb3rFx7SLqY"
   },
   "source": [
    "#### Treating Outlier"
   ]
  },
  {
   "cell_type": "code",
   "execution_count": null,
   "id": "2e44c013",
   "metadata": {
    "id": "2e44c013"
   },
   "outputs": [],
   "source": [
    "# Replacing outliers greater than upper-limit with the upper limit\n",
    "em.loc[em['ambient']>=upp_am,'ambient']=med_am\n",
    "\n",
    "# Replacing outliers lower than lower-limit with the lower limit\n",
    "em.loc[em['ambient']<=low_am,'ambient']=med_am"
   ]
  },
  {
   "cell_type": "code",
   "execution_count": null,
   "id": "de8c6ffb",
   "metadata": {
    "colab": {
     "base_uri": "https://localhost:8080/",
     "height": 865
    },
    "id": "de8c6ffb",
    "outputId": "9245cd92-4c92-4abe-d7a2-62d63a534f37"
   },
   "outputs": [],
   "source": [
    "# Plotting the feature ambient\n",
    "plt.figure(figsize=(6,4))\n",
    "em.boxplot('ambient')\n",
    "plt.show()"
   ]
  },
  {
   "cell_type": "code",
   "execution_count": null,
   "id": "3fde70e4",
   "metadata": {
    "id": "3fde70e4"
   },
   "outputs": [],
   "source": [
    "# Replacing outliers greater than upper-limit with the upper limit\n",
    "em.loc[em['torque']>=upp_tq,'torque']=med_tq\n",
    "\n",
    "# Replacing outliers lower than lower-limit with the lower limit\n",
    "em.loc[em['torque']<=low_tq,'torque']=med_tq"
   ]
  },
  {
   "cell_type": "code",
   "execution_count": null,
   "id": "a1548727",
   "metadata": {
    "colab": {
     "base_uri": "https://localhost:8080/",
     "height": 844
    },
    "id": "a1548727",
    "outputId": "cc7fa011-2f97-46c2-d5ee-f6aa98fab1b8"
   },
   "outputs": [],
   "source": [
    "# Plotting the feature torque\n",
    "plt.figure(figsize=(6,4))\n",
    "em.boxplot('torque')\n",
    "plt.show()"
   ]
  },
  {
   "cell_type": "code",
   "execution_count": null,
   "id": "510a33e9",
   "metadata": {
    "id": "510a33e9"
   },
   "outputs": [],
   "source": [
    "# Replacing outliers greater than upper-limit with the upper limit\n",
    "em.loc[em['i_q']>=upp_iq,'i_q']=med_iq\n",
    "\n",
    "# Replacing outliers lower than lower-limit with the lower limit\n",
    "em.loc[em['i_q']<=low_iq,'i_q']=med_iq"
   ]
  },
  {
   "cell_type": "code",
   "execution_count": null,
   "id": "7efd7a7e",
   "metadata": {
    "colab": {
     "base_uri": "https://localhost:8080/",
     "height": 845
    },
    "id": "7efd7a7e",
    "outputId": "d39c3b04-7756-4a5e-a7a7-c94ddf3f0f84"
   },
   "outputs": [],
   "source": [
    "# Plotting the feature i_q\n",
    "plt.figure(figsize=(6,4))\n",
    "em.boxplot('i_q')\n",
    "plt.show()"
   ]
  },
  {
   "cell_type": "code",
   "execution_count": null,
   "id": "Y7X5OkdYQYjy",
   "metadata": {
    "colab": {
     "base_uri": "https://localhost:8080/",
     "height": 941
    },
    "id": "Y7X5OkdYQYjy",
    "outputId": "49e1ed24-d379-4896-9434-197f2481d5d6"
   },
   "outputs": [],
   "source": [
    "em.plot(kind='box',subplots=True,layout=(3,5))\n",
    "plt.show()"
   ]
  },
  {
   "cell_type": "markdown",
   "id": "Jty0qNuITBEt",
   "metadata": {
    "id": "Jty0qNuITBEt"
   },
   "source": [
    "There are no outliers present in the dataset after treating the outliers"
   ]
  },
  {
   "cell_type": "code",
   "execution_count": null,
   "id": "38ca35f5",
   "metadata": {
    "colab": {
     "base_uri": "https://localhost:8080/",
     "height": 951
    },
    "id": "38ca35f5",
    "outputId": "35980e2d-e3ca-461c-8783-520c24e006ec",
    "scrolled": true
   },
   "outputs": [],
   "source": [
    "corr = em.corr()\n",
    "#Plot figsize\n",
    "fig, ax = plt.subplots(figsize=(12, 8))\n",
    "#Generate Heat Map, allow annotations and place floats in map\n",
    "sns.heatmap(corr, cmap='magma', annot=True, fmt=\".2f\")\n",
    "#Apply xticks\n",
    "plt.xticks(range(len(corr.columns)), corr.columns);\n",
    "#Apply yticks\n",
    "plt.yticks(range(len(corr.columns)), corr.columns)\n",
    "#show plot\n",
    "plt.show()"
   ]
  },
  {
   "cell_type": "markdown",
   "id": "a80bb912",
   "metadata": {},
   "source": [
    "#### Observation:\n",
    "There is no much change in the correlation values after treating the outliers.\n",
    "\n",
    "The independent features have high correlation values leading to multi-collinearity and only 2 features 'u_q' and 'i_d' are having significant correlations with the dependent feature 'motor_speed' \n",
    "\n",
    "##### To solve this problem we shall check for VIF."
   ]
  },
  {
   "cell_type": "markdown",
   "id": "74535417",
   "metadata": {},
   "source": [
    "### Variance Inflation Factors"
   ]
  },
  {
   "cell_type": "code",
   "execution_count": null,
   "id": "M3yzpHpeQba-",
   "metadata": {
    "id": "M3yzpHpeQba-"
   },
   "outputs": [],
   "source": [
    "# dropping the column 'profile_id' as it doesnot contributes in predicting the motor_speed\n",
    "em1=em.drop('profile_id',axis=1)\n",
    "\n",
    "em1.head()"
   ]
  },
  {
   "cell_type": "code",
   "execution_count": null,
   "id": "fb566bdb",
   "metadata": {},
   "outputs": [],
   "source": [
    "#Split the data into independent variable X and dependent Y\n",
    "\n",
    "X = em1.drop('motor_speed',axis=1)\n",
    "y = em1['motor_speed']"
   ]
  },
  {
   "cell_type": "code",
   "execution_count": null,
   "id": "2b71c33f",
   "metadata": {},
   "outputs": [],
   "source": [
    "X"
   ]
  },
  {
   "cell_type": "code",
   "execution_count": null,
   "id": "681ef775",
   "metadata": {},
   "outputs": [],
   "source": [
    "y"
   ]
  },
  {
   "cell_type": "code",
   "execution_count": null,
   "id": "7e06f62d",
   "metadata": {},
   "outputs": [],
   "source": [
    "# VIF Calculation\n",
    "\n",
    "rsq_am = smf.ols('ambient ~ coolant+u_d+u_q+torque+i_d+i_q+pm+stator_yoke+stator_tooth+stator_winding',data=em1).fit().rsquared  \n",
    "vif_am = 1/(1-rsq_am)\n",
    "\n",
    "rsq_cnt = smf.ols('coolant ~ ambient+u_d+u_q+torque+i_d+i_q+pm+stator_yoke+stator_tooth+stator_winding',data=em1).fit().rsquared  \n",
    "vif_cnt = 1/(1-rsq_cnt)\n",
    "\n",
    "rsq_ud = smf.ols('u_d ~ ambient+coolant+u_q+torque+i_d+i_q+pm+stator_yoke+stator_tooth+stator_winding',data=em1).fit().rsquared  \n",
    "vif_ud = 1/(1-rsq_ud)\n",
    "\n",
    "rsq_uq = smf.ols('u_q ~ ambient+coolant+u_d+torque+i_d+i_q+pm+stator_yoke+stator_tooth+stator_winding',data=em1).fit().rsquared  \n",
    "vif_uq = 1/(1-rsq_uq)\n",
    "\n",
    "rsq_tq = smf.ols('torque ~ ambient+coolant+u_d+u_q+i_d+i_q+pm+stator_yoke+stator_tooth+stator_winding',data=em1).fit().rsquared  \n",
    "vif_tq = 1/(1-rsq_tq)\n",
    "\n",
    "rsq_id = smf.ols('i_d ~ ambient+coolant+u_d+u_q+torque+i_q+pm+stator_yoke+stator_tooth+stator_winding',data=em1).fit().rsquared  \n",
    "vif_id = 1/(1-rsq_id)\n",
    "\n",
    "rsq_iq = smf.ols('i_q ~ ambient+coolant+u_d+u_q+torque+i_d+pm+stator_yoke+stator_tooth+stator_winding',data=em1).fit().rsquared  \n",
    "vif_iq = 1/(1-rsq_iq)\n",
    "\n",
    "rsq_pm = smf.ols('pm ~ ambient+coolant+u_d+u_q+torque+i_d+i_q+stator_yoke+stator_tooth+stator_winding',data=em1).fit().rsquared  \n",
    "vif_pm = 1/(1-rsq_pm)\n",
    "\n",
    "rsq_sy = smf.ols('stator_yoke ~ ambient+u_d+u_q+torque+i_d+i_q+pm+stator_tooth+stator_winding',data=em1).fit().rsquared  \n",
    "vif_sy = 1/(1-rsq_sy)\n",
    "\n",
    "rsq_st = smf.ols('stator_tooth ~ ambient+coolant+u_d+u_q+torque+i_d+i_q+pm+stator_yoke+stator_winding',data=em1).fit().rsquared  \n",
    "vif_st = 1/(1-rsq_st)\n",
    "\n",
    "rsq_sw = smf.ols('stator_winding ~ ambient+coolant+u_d+u_q+torque+i_d+i_q+pm+stator_yoke+stator_tooth',data=em1).fit().rsquared  \n",
    "vif_sw = 1/(1-rsq_sw)"
   ]
  },
  {
   "cell_type": "code",
   "execution_count": null,
   "id": "5b66813a",
   "metadata": {},
   "outputs": [],
   "source": [
    "#Storing vif values in a data frame\n",
    "d1 = {'Variables':X.columns,'VIF':[vif_am,vif_cnt,vif_ud,vif_uq,vif_tq,vif_id,vif_iq,vif_pm,vif_sy,vif_st,vif_sw]}\n",
    "Vif_frame = pd.DataFrame(d1)  \n",
    "Vif_frame"
   ]
  },
  {
   "cell_type": "markdown",
   "id": "f4250c44",
   "metadata": {},
   "source": [
    "The VIF of coolant,torque,i_q,stator_yoke,stator_tooth,stator_winding is too high so shall remove these features for further analysis."
   ]
  },
  {
   "cell_type": "code",
   "execution_count": null,
   "id": "507ef2fb",
   "metadata": {},
   "outputs": [],
   "source": [
    "X.drop(['coolant','stator_yoke','stator_tooth','stator_winding'],axis=1,inplace=True)\n",
    "X"
   ]
  },
  {
   "cell_type": "markdown",
   "id": "96073388",
   "metadata": {},
   "source": [
    "##### We shall further use Feature Selection as there was no much correlation between the motor_speed to other independent variables"
   ]
  },
  {
   "cell_type": "markdown",
   "id": "60a76315",
   "metadata": {},
   "source": [
    "## Feature Selection"
   ]
  },
  {
   "cell_type": "code",
   "execution_count": null,
   "id": "13c31d1f",
   "metadata": {},
   "outputs": [],
   "source": [
    "#Lasso\n",
    "\n",
    "l1 = Lasso(alpha=0.3)\n",
    "l1.fit(X,y)\n",
    "\n",
    "l1_coeff = pd.DataFrame() \n",
    "l1_coeff[\"Features\"] = X.columns \n",
    "l1_coeff['Coefficient Estimate'] = pd.Series(l1.coef_) \n",
    "\n",
    "print(l1_coeff) "
   ]
  },
  {
   "cell_type": "code",
   "execution_count": null,
   "id": "41e5d0f7",
   "metadata": {},
   "outputs": [],
   "source": [
    "#Elastic net\n",
    "\n",
    "en = ElasticNet()\n",
    "en.fit(X,y)\n",
    "\n",
    "en_coeff = pd.DataFrame() \n",
    "en_coeff[\"Columns\"] = X.columns \n",
    "en_coeff['Coefficient Estimate'] = pd.Series(en.coef_) \n",
    "en_coeff"
   ]
  },
  {
   "cell_type": "markdown",
   "id": "d94f6915",
   "metadata": {},
   "source": [
    "##### We shall continue with the features u_q and i_d for model-building"
   ]
  },
  {
   "cell_type": "code",
   "execution_count": null,
   "id": "67f54773",
   "metadata": {},
   "outputs": [],
   "source": [
    "# Scaling the features u_q and i_d\n",
    "sc_X = StandardScaler()\n",
    "X_scale= sc_X.fit_transform(X[['u_q','i_d']])\n",
    "X_scale"
   ]
  },
  {
   "cell_type": "code",
   "execution_count": null,
   "id": "647d6896",
   "metadata": {},
   "outputs": [],
   "source": [
    "# Splitting the train test data\n",
    "x_train, x_test, y_train, y_test = train_test_split(X_scale,y,test_size = 0.2,random_state=10)"
   ]
  },
  {
   "cell_type": "markdown",
   "id": "6537abfa",
   "metadata": {},
   "source": [
    "## Linear Regression"
   ]
  },
  {
   "cell_type": "code",
   "execution_count": null,
   "id": "0afa71ea",
   "metadata": {},
   "outputs": [],
   "source": [
    "lr=LinearRegression()\n",
    "lr.fit(x_train,y_train)\n",
    "ypred1=lr.predict(x_test)\n",
    "\n",
    "r2_ln=r2_score(y_test,ypred1)\n",
    "ln_mse=mean_squared_error(y_test,ypred1)\n",
    "ln_rmse=np.sqrt(ln_mse)\n",
    "\n",
    "print(\"R_square : \",r2_ln)\n",
    "print(\"Mean Square Error: \",ln_mse)\n",
    "print(\"Root Mean Square Error: \",ln_rmse)"
   ]
  },
  {
   "cell_type": "markdown",
   "id": "75d62bd4",
   "metadata": {},
   "source": [
    "## Robust Regression"
   ]
  },
  {
   "cell_type": "code",
   "execution_count": null,
   "id": "d2434c27",
   "metadata": {},
   "outputs": [],
   "source": [
    "rb=RANSACRegressor(base_estimator=LinearRegression())\n",
    "rb.fit(x_train, y_train)\n",
    "ypred_rb=rb.predict(x_test)\n",
    "\n",
    "r2_rb=r2_score(y_test,ypred_rb)\n",
    "rb_mse=mean_squared_error(y_test,ypred_rb)\n",
    "rb_rmse=np.sqrt(rb_mse)\n",
    "\n",
    "print(\"R_square : \",r2_rb)\n",
    "print(\"Mean Square Error: \",rb_mse)\n",
    "print(\"Root Mean Square Error: \",rb_rmse)"
   ]
  },
  {
   "cell_type": "markdown",
   "id": "36822c8b",
   "metadata": {},
   "source": [
    "## KNN"
   ]
  },
  {
   "cell_type": "code",
   "execution_count": null,
   "id": "3ce4eb32",
   "metadata": {},
   "outputs": [],
   "source": [
    "knn=KNeighborsRegressor()\n",
    "knn.fit(x_train, y_train)\n",
    "ypred_knn=knn.predict(x_test)\n",
    "\n",
    "r2_knn=r2_score(y_test,ypred_knn)\n",
    "knn_mse=mean_squared_error(y_test,ypred_knn)\n",
    "knn_rmse=np.sqrt(knn_mse)\n",
    "\n",
    "print(\"R_square : \",r2_knn)\n",
    "print(\"Mean Square Error: \",knn_mse)\n",
    "print(\"Root Mean Square Error: \",knn_rmse)"
   ]
  },
  {
   "cell_type": "markdown",
   "id": "681b1b92",
   "metadata": {},
   "source": [
    "## Decision Tree"
   ]
  },
  {
   "cell_type": "code",
   "execution_count": null,
   "id": "209ef2ff",
   "metadata": {},
   "outputs": [],
   "source": [
    "dt = DecisionTreeRegressor()\n",
    "dt.fit(x_train,y_train)\n",
    "ypred_dt=dt.predict(x_test)\n",
    "r2_dt=r2_score(y_test,ypred_dt)\n",
    "dt_mse=mean_squared_error(y_test,ypred_dt)\n",
    "dt_rmse=np.sqrt(dt_mse)\n",
    "print(\"R_square : \",r2_dt)\n",
    "print(\"Mean Square Error: \",dt_mse)\n",
    "print(\"Root Mean Square Error: \",dt_rmse)"
   ]
  },
  {
   "cell_type": "markdown",
   "id": "d57d87a2",
   "metadata": {},
   "source": [
    "## Random Forest"
   ]
  },
  {
   "cell_type": "code",
   "execution_count": null,
   "id": "cbe76442",
   "metadata": {},
   "outputs": [],
   "source": [
    "model = RandomForestRegressor()\n",
    "model.fit(x_train,y_train)\n",
    "ypred_rf = model.predict(x_test)\n"
   ]
  },
  {
   "cell_type": "code",
   "execution_count": null,
   "id": "d5630e4e",
   "metadata": {},
   "outputs": [],
   "source": [
    "r2_rf=r2_score(y_test,ypred_rf)\n",
    "rf_mse=mean_squared_error(y_test,ypred_rf)\n",
    "rf_rmse=np.sqrt(rf_mse)\n",
    "print(\"R_square : \",r2_rf)\n",
    "print(\"Mean Square Error: \",rf_mse)\n",
    "print(\"Root Mean Square Error: \",rf_rmse)"
   ]
  },
  {
   "cell_type": "markdown",
   "id": "3c90139c",
   "metadata": {},
   "source": [
    "## Polynomial Regression"
   ]
  },
  {
   "cell_type": "code",
   "execution_count": null,
   "id": "94e58b46",
   "metadata": {},
   "outputs": [],
   "source": [
    "poly_reg = PolynomialFeatures(degree = 2)\n",
    "poly_reg.fit_transform(x_train)\n",
    "x_train_poly=poly_reg.transform(x_train)\n",
    "x_test_poly=poly_reg.transform(x_test)\n",
    "\n",
    "plr = LinearRegression()\n",
    "plr.fit(x_train_poly,y_train)\n",
    "plr.predict(x_test_poly)\n",
    "ypred_plr=plr.predict(x_test_poly)\n",
    "\n",
    "r2_plr=r2_score(y_test,ypred_plr)\n",
    "plr_mse=mean_squared_error(y_test,ypred_plr)\n",
    "plr_rmse=np.sqrt(plr_mse)\n",
    "\n",
    "print(\"R_square : \",r2_plr)\n",
    "print(\"Mean Square Error: \",plr_mse)\n",
    "print(\"Root Mean Square Error: \",plr_rmse)"
   ]
  },
  {
   "cell_type": "markdown",
   "id": "37f34ed9",
   "metadata": {},
   "source": [
    "## Support vector Machine"
   ]
  },
  {
   "cell_type": "code",
   "execution_count": null,
   "id": "74f5c53c",
   "metadata": {},
   "outputs": [],
   "source": [
    "svr = SVR(kernel='rbf')"
   ]
  },
  {
   "cell_type": "code",
   "execution_count": null,
   "id": "3201c676",
   "metadata": {},
   "outputs": [],
   "source": [
    "svr.fit(x_train, y_train)"
   ]
  },
  {
   "cell_type": "code",
   "execution_count": null,
   "id": "f79592c8",
   "metadata": {},
   "outputs": [],
   "source": [
    "ypred_svm = svr.predict(x_test)"
   ]
  },
  {
   "cell_type": "code",
   "execution_count": null,
   "id": "e9599dbe",
   "metadata": {},
   "outputs": [],
   "source": [
    "r2_svm=r2_score(y_test,ypred_svm)\n",
    "svm_mse=mean_squared_error(y_test,ypred_svm)\n",
    "svm_rmse=np.sqrt(svm_mse)\n",
    "\n",
    "print(\"R_square : \",r2_svm)\n",
    "print(\"Mean Square Error: \",svm_mse)\n",
    "print(\"Root Mean Square Error: \",svm_rmse)"
   ]
  },
  {
   "cell_type": "markdown",
   "id": "b1e2c03f",
   "metadata": {},
   "source": [
    "##  Neural Networks"
   ]
  },
  {
   "cell_type": "code",
   "execution_count": null,
   "id": "aff0265f",
   "metadata": {},
   "outputs": [],
   "source": [
    "model=Sequential()\n",
    "model.add(Dense(10,input_dim=2,activation='relu'))\n",
    "model.add(Dense(1))\n",
    "model.compile(loss='mean_squared_error',optimizer='Adam')"
   ]
  },
  {
   "cell_type": "code",
   "execution_count": null,
   "id": "f7aeec2e",
   "metadata": {},
   "outputs": [],
   "source": [
    "# Fit the model\n",
    "model.fit(x_train,y_train)"
   ]
  },
  {
   "cell_type": "code",
   "execution_count": null,
   "id": "e6b7c9ba",
   "metadata": {},
   "outputs": [],
   "source": [
    "ypred_nn=model.predict(x_test)"
   ]
  },
  {
   "cell_type": "code",
   "execution_count": null,
   "id": "5e125703",
   "metadata": {},
   "outputs": [],
   "source": [
    "r2_nn=r2_score(y_test,ypred_nn)\n",
    "nn_mse=mean_squared_error(y_test,ypred_nn)\n",
    "nn_rmse=np.sqrt(nn_mse)\n",
    "\n",
    "print(\"R_square : \",r2_nn)\n",
    "print(\"Mean Square Error: \",nn_mse)\n",
    "print(\"Root Mean Square Error: \",nn_rmse)"
   ]
  },
  {
   "cell_type": "markdown",
   "id": "5c9a2813",
   "metadata": {},
   "source": [
    "## Storing the results in the table format"
   ]
  },
  {
   "cell_type": "code",
   "execution_count": null,
   "id": "e661116c",
   "metadata": {},
   "outputs": [],
   "source": [
    "result_df=pd.DataFrame()\n",
    "result_df['Models']=['Linear Regression','Robust Regression','KNN','Decision Tree','Random Forest','Polynomial Regression','Neural Network']\n",
    "result_df['R_square values']=[r2_ln,r2_rb,r2_knn,r2_dt,r2_rf,r2_plr,r2_nn]\n",
    "result_df['Mean Square Error']=[ln_mse,rb_mse,knn_mse,dt_mse,rf_mse,plr_mse,nn_mse]\n",
    "result_df['Root Mean Square Error']=[ln_rmse,rb_rmse,knn_rmse,dt_rmse,rf_rmse,plr_rmse,nn_rmse]\n",
    "result_df"
   ]
  },
  {
   "cell_type": "code",
   "execution_count": null,
   "id": "0f005f9e",
   "metadata": {},
   "outputs": [],
   "source": [
    "plt.figure(figsize=(4,4))\n",
    "plt.style.use('Solarize_Light2')\n",
    "plt.subplot(2,1,1)\n",
    "plt.bar(result_df['Models'],result_df['R_square values'])\n",
    "plt.title('Models with R_square values',fontdict={'color':'blue','size':10})\n",
    "plt.xticks(rotation=90)\n",
    "print()\n",
    "plt.figure(figsize=(4,4))\n",
    "plt.subplot(2,1,2)\n",
    "plt.bar(result_df['Models'],result_df['Root Mean Square Error'])\n",
    "plt.title('Models with Root Mean Square Error',fontdict={'color':'blue','size':10})\n",
    "plt.xticks(rotation=90)\n",
    "plt.show()"
   ]
  },
  {
   "cell_type": "markdown",
   "id": "6b3396b8",
   "metadata": {},
   "source": [
    "##### Here KNN regression model is giving the higher R-square and lower Mean-square value  hence we are choosing KNN fot the Model Building"
   ]
  },
  {
   "cell_type": "markdown",
   "id": "524461a9",
   "metadata": {},
   "source": [
    "### Tunning the Hyperparameter"
   ]
  },
  {
   "cell_type": "code",
   "execution_count": null,
   "id": "4139b24b",
   "metadata": {},
   "outputs": [],
   "source": [
    "params={'n_neighbors':[2,3,4,5,6,7,8,9,10,11,12,13,14,15,16,17,18,19,20]}\n",
    "knn=KNeighborsRegressor()\n",
    "\n",
    "model=GridSearchCV(knn,params,cv=5)\n",
    "model.fit(x_train,y_train)\n",
    "model.best_params_"
   ]
  },
  {
   "cell_type": "raw",
   "id": "6cc4e4b0",
   "metadata": {},
   "source": [
    "After using the GridSearchCV we got 19 As the best N value"
   ]
  },
  {
   "cell_type": "code",
   "execution_count": null,
   "id": "5e0f1096",
   "metadata": {},
   "outputs": [],
   "source": [
    "# Model building\n",
    "model=KNeighborsRegressor(n_neighbors=19)\n",
    "model.fit(x_train,y_train)\n",
    "ypred=model.predict(x_test)\n",
    "\n",
    "# Calculating R2 score,MSE and RMSE\n",
    "r2=r2_score(y_test,ypred)\n",
    "mse=mean_squared_error(y_test,ypred)\n",
    "rmse=np.sqrt(mse)\n",
    "\n",
    "# Printing R2 score,MSE and RMSE\n",
    "print(\"R_square : \",np.round(r2,2))\n",
    "print(\"Mean Square Error: \",np.round(mse,2))\n",
    "print(\"Root Mean Square Error: \",np.round(rmse,2))"
   ]
  },
  {
   "cell_type": "code",
   "execution_count": null,
   "id": "3fda9391",
   "metadata": {},
   "outputs": [],
   "source": [
    "# Storing y_test and ypred values in a Dataframe\n",
    "df=pd.DataFrame()\n",
    "df['Actual speed']=y_test\n",
    "df['Predicted speed']=ypred\n",
    "df.reset_index(drop=True)"
   ]
  },
  {
   "cell_type": "code",
   "execution_count": null,
   "id": "45653455",
   "metadata": {},
   "outputs": [],
   "source": [
    "plt.figure(figsize=(6,4))\n",
    "sns.distplot(df['Actual speed'],hist=False,color='green')\n",
    "sns.distplot(df['Predicted speed'],hist=False,color='red')\n",
    "plt.legend(['Actual speed','Predicted speed'])\n",
    "plt.title(\"Actual speed v/s Predicted speed\",fontdict={'color':'blue','size':20})\n",
    "plt.show()"
   ]
  },
  {
   "cell_type": "markdown",
   "id": "d660a223",
   "metadata": {},
   "source": [
    "#### Here the actual and predicted values are alomost overlapping this shows that the model is performing well"
   ]
  },
  {
   "cell_type": "code",
   "execution_count": null,
   "id": "7e13b23c",
   "metadata": {},
   "outputs": [],
   "source": [
    "# Plotting Actual and Predicted values\n",
    "plt.scatter(x=y_test,y=ypred)\n",
    "plt.title(\"Actual speed v/s Predicted speed\",fontdict={'color':'blue','size':20})\n",
    "plt.xlabel(\"Actual speed\",fontdict={'color':'blue','size':15})\n",
    "plt.ylabel(\"Predicted speed\",fontdict={'color':'blue','size':15})"
   ]
  },
  {
   "cell_type": "markdown",
   "id": "2dcdb7ac",
   "metadata": {},
   "source": [
    "## Validating the Model\n",
    "#### Using KFold"
   ]
  },
  {
   "cell_type": "code",
   "execution_count": null,
   "id": "d99c91be",
   "metadata": {},
   "outputs": [],
   "source": [
    "from sklearn.model_selection import KFold\n",
    "from sklearn.model_selection import cross_val_score\n",
    "kfold = KFold(n_splits=10)\n",
    "results = cross_val_score(model, X_scale,y, cv=kfold)\n",
    "results"
   ]
  },
  {
   "cell_type": "code",
   "execution_count": null,
   "id": "309c1ebf",
   "metadata": {},
   "outputs": [],
   "source": [
    "results.mean()"
   ]
  },
  {
   "cell_type": "code",
   "execution_count": null,
   "id": "d57d5471",
   "metadata": {},
   "outputs": [],
   "source": [
    "mod=[1,2,3,4,5,6,7,8,9,10]"
   ]
  },
  {
   "cell_type": "code",
   "execution_count": null,
   "id": "58bc3c02",
   "metadata": {},
   "outputs": [],
   "source": [
    "plt.figure(figsize=(4,4))\n",
    "plt.style.use('ggplot')\n",
    "plt.subplot(2,1,1)\n",
    "plt.bar(mod,results)\n",
    "plt.title('Model wise Results',fontdict={'color':'r','size':14})\n",
    "plt.xlabel('MODELS',fontdict={'color':'r','size':8})\n",
    "plt.ylabel('RESULTS',fontdict={'color':'r','size':8})\n",
    "plt.show()\n",
    "print()\n"
   ]
  },
  {
   "cell_type": "markdown",
   "id": "1b338344",
   "metadata": {},
   "source": [
    "### Final model "
   ]
  },
  {
   "cell_type": "code",
   "execution_count": null,
   "id": "fcde4baa",
   "metadata": {},
   "outputs": [],
   "source": [
    "final_model=KNeighborsRegressor(n_neighbors=19)\n",
    "final_model.fit(X_scale,y)\n",
    "ypred=final_model.predict(X_scale)"
   ]
  },
  {
   "cell_type": "code",
   "execution_count": null,
   "id": "237f2b63",
   "metadata": {},
   "outputs": [],
   "source": [
    "plt.figure(figsize=(6,4))\n",
    "sns.distplot(y,hist=False,color='green')\n",
    "sns.distplot(ypred,hist=False,color='red')\n",
    "plt.legend(['Actual speed','Predicted speed'])\n",
    "plt.title(\"Actual speed v/s Predicted speed\",fontdict={'color':'blue','size':20})\n",
    "plt.show()"
   ]
  },
  {
   "cell_type": "code",
   "execution_count": null,
   "id": "c5b23538",
   "metadata": {},
   "outputs": [],
   "source": []
  }
 ],
 "metadata": {
  "colab": {
   "provenance": []
  },
  "kernelspec": {
   "display_name": "Python 3 (ipykernel)",
   "language": "python",
   "name": "python3"
  },
  "language_info": {
   "codemirror_mode": {
    "name": "ipython",
    "version": 3
   },
   "file_extension": ".py",
   "mimetype": "text/x-python",
   "name": "python",
   "nbconvert_exporter": "python",
   "pygments_lexer": "ipython3",
   "version": "3.9.13"
  }
 },
 "nbformat": 4,
 "nbformat_minor": 5
}
